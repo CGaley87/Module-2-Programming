{
 "cells": [
  {
   "cell_type": "code",
   "execution_count": 2,
   "id": "da382f37-3114-4e5e-bc85-ab4aade5a8fa",
   "metadata": {},
   "outputs": [
    {
     "name": "stdout",
     "output_type": "stream",
     "text": [
      "too low\n"
     ]
    }
   ],
   "source": [
    "#4.1\n",
    "secret = 7\n",
    "guess = 5\n",
    "if guess < secret:\n",
    "    print(\"too low\")\n",
    "elif guess > secret:\n",
    "    print(\"too high\")\n",
    "else: #guess and secret are equal\n",
    "    print(\"just right\")"
   ]
  },
  {
   "cell_type": "code",
   "execution_count": 3,
   "id": "4b309de3-2d51-475a-b830-79b0e436c5ec",
   "metadata": {},
   "outputs": [
    {
     "name": "stdout",
     "output_type": "stream",
     "text": [
      "watermelon\n"
     ]
    }
   ],
   "source": [
    "#4.2\n",
    "small = False\n",
    "green = True\n",
    "\n",
    "if small and not green:\n",
    "    print(\"cherry\")\n",
    "elif small and green:\n",
    "    print(\"pea\")\n",
    "elif not small and green:\n",
    "    print(\"watermelon\")\n",
    "else: #not small and not green\n",
    "    print(\"pumpkin\")"
   ]
  },
  {
   "cell_type": "code",
   "execution_count": 5,
   "id": "24524d8a-869e-4e5d-82b9-4466fad28210",
   "metadata": {},
   "outputs": [
    {
     "name": "stdout",
     "output_type": "stream",
     "text": [
      "3\n",
      "2\n",
      "1\n",
      "0\n"
     ]
    }
   ],
   "source": [
    "#6.1\n",
    "list = [3, 2, 1, 0]\n",
    "\n",
    "for num in list:\n",
    "    print(num)"
   ]
  },
  {
   "cell_type": "code",
   "execution_count": 7,
   "id": "4be335c8-41ca-4484-97e4-8464f2326a4d",
   "metadata": {},
   "outputs": [
    {
     "name": "stdout",
     "output_type": "stream",
     "text": [
      "too low\n",
      "too low\n",
      "too low\n",
      "too low\n",
      "too low\n",
      "too low\n",
      "found it!\n"
     ]
    }
   ],
   "source": [
    "#6.2\n",
    "guess_me = 7\n",
    "number = 1\n",
    "\n",
    "while True:\n",
    "    if number < guess_me:\n",
    "        print(\"too low\")\n",
    "    elif number > guess_me:\n",
    "        print(\"oops\")\n",
    "        break\n",
    "    elif number == guess_me:\n",
    "        print(\"found it!\")\n",
    "        break\n",
    "    number += 1"
   ]
  },
  {
   "cell_type": "code",
   "execution_count": 8,
   "id": "5333083e-59a0-40b2-a777-fe4d5e6cf2ab",
   "metadata": {},
   "outputs": [
    {
     "name": "stdout",
     "output_type": "stream",
     "text": [
      "too low\n",
      "too low\n",
      "too low\n",
      "too low\n",
      "too low\n",
      "found it!\n"
     ]
    }
   ],
   "source": [
    "#6.3\n",
    "guess_me = 5\n",
    "\n",
    "for num in range(10):\n",
    "    if num < guess_me:\n",
    "        print(\"too low\")\n",
    "    if num == guess_me:\n",
    "        print(\"found it!\")\n",
    "        break\n",
    "    if num > guess_me:\n",
    "        print(\"oops\")\n",
    "        break"
   ]
  }
 ],
 "metadata": {
  "kernelspec": {
   "display_name": "Python [conda env:base] *",
   "language": "python",
   "name": "conda-base-py"
  },
  "language_info": {
   "codemirror_mode": {
    "name": "ipython",
    "version": 3
   },
   "file_extension": ".py",
   "mimetype": "text/x-python",
   "name": "python",
   "nbconvert_exporter": "python",
   "pygments_lexer": "ipython3",
   "version": "3.13.5"
  }
 },
 "nbformat": 4,
 "nbformat_minor": 5
}
